{
 "cells": [
  {
   "cell_type": "code",
   "execution_count": 1,
   "metadata": {},
   "outputs": [
    {
     "name": "stdout",
     "output_type": "stream",
     "text": [
      "0         (3, 4]\n",
      "1         (3, 4]\n",
      "2         (3, 4]\n",
      "3         (4, 5]\n",
      "4         (4, 5]\n",
      "5         (2, 3]\n",
      "6         (4, 5]\n",
      "7         (3, 4]\n",
      "8         (4, 5]\n",
      "9         (4, 5]\n",
      "10        (4, 5]\n",
      "11        (4, 5]\n",
      "12        (2, 3]\n",
      "13        (4, 5]\n",
      "14        (3, 4]\n",
      "15        (4, 5]\n",
      "16        (2, 3]\n",
      "17        (2, 3]\n",
      "18        (4, 5]\n",
      "19        (3, 4]\n",
      "20        (3, 4]\n",
      "21        (4, 5]\n",
      "22        (3, 4]\n",
      "23        (2, 3]\n",
      "24        (3, 4]\n",
      "25        (4, 5]\n",
      "26        (3, 4]\n",
      "27        (2, 3]\n",
      "28        (4, 5]\n",
      "29        (3, 4]\n",
      "           ...  \n",
      "100806    (2, 3]\n",
      "100807    (3, 4]\n",
      "100808    (3, 4]\n",
      "100809    (3, 4]\n",
      "100810    (3, 4]\n",
      "100811    (4, 5]\n",
      "100812    (4, 5]\n",
      "100813    (3, 4]\n",
      "100814    (4, 5]\n",
      "100815    (3, 4]\n",
      "100816    (3, 4]\n",
      "100817    (2, 3]\n",
      "100818    (2, 3]\n",
      "100819    (2, 3]\n",
      "100820    (2, 3]\n",
      "100821    (4, 5]\n",
      "100822    (2, 3]\n",
      "100823    (2, 3]\n",
      "100824    (3, 4]\n",
      "100825    (3, 4]\n",
      "100826    (3, 4]\n",
      "100827    (3, 4]\n",
      "100828    (3, 4]\n",
      "100829    (4, 5]\n",
      "100830    (3, 4]\n",
      "100831    (3, 4]\n",
      "100832    (4, 5]\n",
      "100833    (4, 5]\n",
      "100834    (4, 5]\n",
      "100835    (2, 3]\n",
      "Name: grade, Length: 100836, dtype: category\n",
      "Categories (5, interval[int64]): [(0, 1] < (1, 2] < (2, 3] < (3, 4] < (4, 5]]\n"
     ]
    }
   ],
   "source": [
    "import pandas as pd\n",
    "rates = pd.read_csv('file/ratings.csv')\n",
    "rates['grade'] = pd.cut(rates['rating'], bins=[0, 1, 2, 3, 4, 5])\n",
    "print(rates['grade'])"
   ]
  },
  {
   "cell_type": "code",
   "execution_count": 2,
   "metadata": {},
   "outputs": [
    {
     "data": {
      "text/plain": [
       "(3, 4]    39954\n",
       "(2, 3]    25597\n",
       "(4, 5]    21762\n",
       "(1, 2]     9342\n",
       "(0, 1]     4181\n",
       "Name: grade, dtype: int64"
      ]
     },
     "execution_count": 2,
     "metadata": {},
     "output_type": "execute_result"
    }
   ],
   "source": [
    "rates['grade'].value_counts()"
   ]
  },
  {
   "cell_type": "code",
   "execution_count": 3,
   "metadata": {},
   "outputs": [
    {
     "data": {
      "text/html": [
       "<div>\n",
       "<style scoped>\n",
       "    .dataframe tbody tr th:only-of-type {\n",
       "        vertical-align: middle;\n",
       "    }\n",
       "\n",
       "    .dataframe tbody tr th {\n",
       "        vertical-align: top;\n",
       "    }\n",
       "\n",
       "    .dataframe thead th {\n",
       "        text-align: right;\n",
       "    }\n",
       "</style>\n",
       "<table border=\"1\" class=\"dataframe\">\n",
       "  <thead>\n",
       "    <tr style=\"text-align: right;\">\n",
       "      <th></th>\n",
       "      <th>userId</th>\n",
       "      <th>movieId</th>\n",
       "      <th>rating</th>\n",
       "      <th>timestamp</th>\n",
       "      <th>grade</th>\n",
       "      <th>comment</th>\n",
       "    </tr>\n",
       "  </thead>\n",
       "  <tbody>\n",
       "    <tr>\n",
       "      <th>0</th>\n",
       "      <td>1</td>\n",
       "      <td>1</td>\n",
       "      <td>4.0</td>\n",
       "      <td>964982703</td>\n",
       "      <td>(3, 4]</td>\n",
       "      <td>不推荐</td>\n",
       "    </tr>\n",
       "    <tr>\n",
       "      <th>1</th>\n",
       "      <td>1</td>\n",
       "      <td>3</td>\n",
       "      <td>4.0</td>\n",
       "      <td>964981247</td>\n",
       "      <td>(3, 4]</td>\n",
       "      <td>不推荐</td>\n",
       "    </tr>\n",
       "    <tr>\n",
       "      <th>2</th>\n",
       "      <td>1</td>\n",
       "      <td>6</td>\n",
       "      <td>4.0</td>\n",
       "      <td>964982224</td>\n",
       "      <td>(3, 4]</td>\n",
       "      <td>不推荐</td>\n",
       "    </tr>\n",
       "    <tr>\n",
       "      <th>3</th>\n",
       "      <td>1</td>\n",
       "      <td>47</td>\n",
       "      <td>5.0</td>\n",
       "      <td>964983815</td>\n",
       "      <td>(4, 5]</td>\n",
       "      <td>推荐</td>\n",
       "    </tr>\n",
       "    <tr>\n",
       "      <th>4</th>\n",
       "      <td>1</td>\n",
       "      <td>50</td>\n",
       "      <td>5.0</td>\n",
       "      <td>964982931</td>\n",
       "      <td>(4, 5]</td>\n",
       "      <td>推荐</td>\n",
       "    </tr>\n",
       "  </tbody>\n",
       "</table>\n",
       "</div>"
      ],
      "text/plain": [
       "   userId  movieId  rating  timestamp   grade comment\n",
       "0       1        1     4.0  964982703  (3, 4]     不推荐\n",
       "1       1        3     4.0  964981247  (3, 4]     不推荐\n",
       "2       1        6     4.0  964982224  (3, 4]     不推荐\n",
       "3       1       47     5.0  964983815  (4, 5]      推荐\n",
       "4       1       50     5.0  964982931  (4, 5]      推荐"
      ]
     },
     "execution_count": 3,
     "metadata": {},
     "output_type": "execute_result"
    }
   ],
   "source": [
    "rates['comment'] = '不推荐'\n",
    "rates.loc[rates['rating']>4, 'comment'] = '推荐'\n",
    "rates.head()"
   ]
  },
  {
   "cell_type": "code",
   "execution_count": null,
   "metadata": {},
   "outputs": [],
   "source": []
  }
 ],
 "metadata": {
  "kernelspec": {
   "display_name": "Python 3",
   "language": "python",
   "name": "python3"
  },
  "language_info": {
   "codemirror_mode": {
    "name": "ipython",
    "version": 3
   },
   "file_extension": ".py",
   "mimetype": "text/x-python",
   "name": "python",
   "nbconvert_exporter": "python",
   "pygments_lexer": "ipython3",
   "version": "3.6.4"
  }
 },
 "nbformat": 4,
 "nbformat_minor": 2
}
