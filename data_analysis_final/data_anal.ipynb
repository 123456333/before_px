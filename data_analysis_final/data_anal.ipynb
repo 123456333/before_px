{
 "cells": [
  {
   "cell_type": "markdown",
   "metadata": {},
   "source": [
    "1. 一共有多少不同的用户"
   ]
  },
  {
   "cell_type": "code",
   "execution_count": 1,
   "metadata": {},
   "outputs": [],
   "source": [
    "import pandas as pd"
   ]
  },
  {
   "cell_type": "code",
   "execution_count": 2,
   "metadata": {},
   "outputs": [
    {
     "data": {
      "text/plain": [
       "162541"
      ]
     },
     "execution_count": 2,
     "metadata": {},
     "output_type": "execute_result"
    }
   ],
   "source": [
    "ratings = pd.read_csv('ml-25m/ratings.csv')\n",
    "ratings['userId'].nunique()"
   ]
  },
  {
   "cell_type": "markdown",
   "metadata": {},
   "source": [
    "2. 一共有多少不同的电影"
   ]
  },
  {
   "cell_type": "code",
   "execution_count": 3,
   "metadata": {},
   "outputs": [
    {
     "data": {
      "text/plain": [
       "62423"
      ]
     },
     "execution_count": 3,
     "metadata": {},
     "output_type": "execute_result"
    }
   ],
   "source": [
    "movie = pd.read_csv('ml-25m/movies.csv')\n",
    "movie['movieId'].nunique()"
   ]
  },
  {
   "cell_type": "markdown",
   "metadata": {},
   "source": [
    "3. 一共有多少不同的电影种类"
   ]
  },
  {
   "cell_type": "code",
   "execution_count": 8,
   "metadata": {},
   "outputs": [
    {
     "data": {
      "text/plain": [
       "20"
      ]
     },
     "execution_count": 8,
     "metadata": {},
     "output_type": "execute_result"
    }
   ],
   "source": [
    "genres_list = []\n",
    "for s in movie['genres']:\n",
    "    if isinstance(s,str):\n",
    "        genres_list.extend(s.split('|'))\n",
    "len(set(genres_list))"
   ]
  },
  {
   "cell_type": "markdown",
   "metadata": {},
   "source": [
    "4. 一共有多少电影没有外部链接"
   ]
  },
  {
   "cell_type": "code",
   "execution_count": 10,
   "metadata": {},
   "outputs": [
    {
     "data": {
      "text/plain": [
       "107"
      ]
     },
     "execution_count": 10,
     "metadata": {},
     "output_type": "execute_result"
    }
   ],
   "source": [
    "link = pd.read_csv('ml-25m/links.csv')\n",
    "movie_link = movie.merge(link, on='movieId', how='left')\n",
    "sum(movie_link[['imdbId', 'tmdbId']].isnull().sum(axis=1)>0)                        "
   ]
  },
  {
   "cell_type": "markdown",
   "metadata": {},
   "source": [
    "5. 2018年一共有多少人进行过电影评分"
   ]
  },
  {
   "cell_type": "code",
   "execution_count": 16,
   "metadata": {},
   "outputs": [
    {
     "data": {
      "text/plain": [
       "11999"
      ]
     },
     "execution_count": 16,
     "metadata": {},
     "output_type": "execute_result"
    }
   ],
   "source": [
    "import time\n",
    "timestamp_start = time.mktime(time.strptime('2018-01-01 00:00:00','%Y-%m-%d %H:%M:%S'))\n",
    "timestamp_end = time.mktime(time.strptime('2019-01-01 00:00:00','%Y-%m-%d %H:%M:%S'))\n",
    "ratings.loc[(ratings['timestamp']>=timestamp_start) & (ratings['timestamp']<timestamp_end), 'userId'].nunique()"
   ]
  },
  {
   "cell_type": "markdown",
   "metadata": {},
   "source": [
    "6. 2018年评分5分以上的电影及其对应的标签"
   ]
  },
  {
   "cell_type": "code",
   "execution_count": 19,
   "metadata": {},
   "outputs": [
    {
     "data": {
      "text/html": [
       "<div>\n",
       "<style scoped>\n",
       "    .dataframe tbody tr th:only-of-type {\n",
       "        vertical-align: middle;\n",
       "    }\n",
       "\n",
       "    .dataframe tbody tr th {\n",
       "        vertical-align: top;\n",
       "    }\n",
       "\n",
       "    .dataframe thead th {\n",
       "        text-align: right;\n",
       "    }\n",
       "</style>\n",
       "<table border=\"1\" class=\"dataframe\">\n",
       "  <thead>\n",
       "    <tr style=\"text-align: right;\">\n",
       "      <th></th>\n",
       "      <th>title</th>\n",
       "      <th>genres</th>\n",
       "      <th>userId</th>\n",
       "      <th>movieId</th>\n",
       "      <th>tag</th>\n",
       "      <th>timestamp</th>\n",
       "    </tr>\n",
       "  </thead>\n",
       "  <tbody>\n",
       "    <tr>\n",
       "      <th>0</th>\n",
       "      <td>Pulp Fiction (1994)</td>\n",
       "      <td>Comedy|Crime|Drama|Thriller</td>\n",
       "      <td>109</td>\n",
       "      <td>296</td>\n",
       "      <td>NaN</td>\n",
       "      <td>NaN</td>\n",
       "    </tr>\n",
       "    <tr>\n",
       "      <th>1</th>\n",
       "      <td>Pulp Fiction (1994)</td>\n",
       "      <td>Comedy|Crime|Drama|Thriller</td>\n",
       "      <td>541</td>\n",
       "      <td>296</td>\n",
       "      <td>NaN</td>\n",
       "      <td>NaN</td>\n",
       "    </tr>\n",
       "    <tr>\n",
       "      <th>2</th>\n",
       "      <td>Pulp Fiction (1994)</td>\n",
       "      <td>Comedy|Crime|Drama|Thriller</td>\n",
       "      <td>997</td>\n",
       "      <td>296</td>\n",
       "      <td>Black comedy</td>\n",
       "      <td>1.529753e+09</td>\n",
       "    </tr>\n",
       "  </tbody>\n",
       "</table>\n",
       "</div>"
      ],
      "text/plain": [
       "                 title                       genres  userId  movieId  \\\n",
       "0  Pulp Fiction (1994)  Comedy|Crime|Drama|Thriller     109      296   \n",
       "1  Pulp Fiction (1994)  Comedy|Crime|Drama|Thriller     541      296   \n",
       "2  Pulp Fiction (1994)  Comedy|Crime|Drama|Thriller     997      296   \n",
       "\n",
       "            tag     timestamp  \n",
       "0           NaN           NaN  \n",
       "1           NaN           NaN  \n",
       "2  Black comedy  1.529753e+09  "
      ]
     },
     "execution_count": 19,
     "metadata": {},
     "output_type": "execute_result"
    }
   ],
   "source": [
    "tags = pd.read_csv('ml-25m/tags.csv')\n",
    "movie_ratings = ratings.merge(movie,on='movieId',how='inner')\n",
    "movie_ratings = movie_ratings.loc[(movie_ratings['timestamp']>=timestamp_start) & (movie_ratings['timestamp']<timestamp_end)\n",
    "& (movie_ratings['rating']>=5),['title','genres','userId','movieId']]\n",
    "re = movie_ratings.merge(tags,on=['userId','movieId'],how='left')\n",
    "re.head(3)"
   ]
  },
  {
   "cell_type": "markdown",
   "metadata": {},
   "source": [
    "7. 绘制电影复仇者联盟（The Avengers）每个月评分的平均值变化曲线图"
   ]
  },
  {
   "cell_type": "code",
   "execution_count": 21,
   "metadata": {},
   "outputs": [
    {
     "data": {
      "text/html": [
       "<div>\n",
       "<style scoped>\n",
       "    .dataframe tbody tr th:only-of-type {\n",
       "        vertical-align: middle;\n",
       "    }\n",
       "\n",
       "    .dataframe tbody tr th {\n",
       "        vertical-align: top;\n",
       "    }\n",
       "\n",
       "    .dataframe thead th {\n",
       "        text-align: right;\n",
       "    }\n",
       "</style>\n",
       "<table border=\"1\" class=\"dataframe\">\n",
       "  <thead>\n",
       "    <tr style=\"text-align: right;\">\n",
       "      <th></th>\n",
       "      <th>movieId</th>\n",
       "      <th>title</th>\n",
       "      <th>genres</th>\n",
       "    </tr>\n",
       "  </thead>\n",
       "  <tbody>\n",
       "    <tr>\n",
       "      <th>2063</th>\n",
       "      <td>2153</td>\n",
       "      <td>Avengers, The (1998)</td>\n",
       "      <td>Action|Adventure</td>\n",
       "    </tr>\n",
       "    <tr>\n",
       "      <th>17067</th>\n",
       "      <td>89745</td>\n",
       "      <td>Avengers, The (2012)</td>\n",
       "      <td>Action|Adventure|Sci-Fi|IMAX</td>\n",
       "    </tr>\n",
       "    <tr>\n",
       "      <th>22599</th>\n",
       "      <td>115727</td>\n",
       "      <td>Crippled Avengers (Can que) (Return of the 5 D...</td>\n",
       "      <td>Action|Adventure</td>\n",
       "    </tr>\n",
       "    <tr>\n",
       "      <th>25058</th>\n",
       "      <td>122892</td>\n",
       "      <td>Avengers: Age of Ultron (2015)</td>\n",
       "      <td>Action|Adventure|Sci-Fi</td>\n",
       "    </tr>\n",
       "    <tr>\n",
       "      <th>25067</th>\n",
       "      <td>122912</td>\n",
       "      <td>Avengers: Infinity War - Part I (2018)</td>\n",
       "      <td>Action|Adventure|Sci-Fi</td>\n",
       "    </tr>\n",
       "    <tr>\n",
       "      <th>25068</th>\n",
       "      <td>122914</td>\n",
       "      <td>Avengers: Infinity War - Part II (2019)</td>\n",
       "      <td>Action|Adventure|Sci-Fi</td>\n",
       "    </tr>\n",
       "    <tr>\n",
       "      <th>30333</th>\n",
       "      <td>135979</td>\n",
       "      <td>Next Avengers: Heroes of Tomorrow (2008)</td>\n",
       "      <td>Action|Animation|Children|Sci-Fi</td>\n",
       "    </tr>\n",
       "    <tr>\n",
       "      <th>30431</th>\n",
       "      <td>136257</td>\n",
       "      <td>Avengers Grimm (2015)</td>\n",
       "      <td>Action|Adventure|Fantasy</td>\n",
       "    </tr>\n",
       "    <tr>\n",
       "      <th>34536</th>\n",
       "      <td>145676</td>\n",
       "      <td>3 Avengers (1964)</td>\n",
       "      <td>(no genres listed)</td>\n",
       "    </tr>\n",
       "    <tr>\n",
       "      <th>35219</th>\n",
       "      <td>147238</td>\n",
       "      <td>The New Adventures of the Elusive Avengers (1968)</td>\n",
       "      <td>Action|Adventure|Children</td>\n",
       "    </tr>\n",
       "    <tr>\n",
       "      <th>35372</th>\n",
       "      <td>147657</td>\n",
       "      <td>Masked Avengers (1981)</td>\n",
       "      <td>Action</td>\n",
       "    </tr>\n",
       "    <tr>\n",
       "      <th>40636</th>\n",
       "      <td>159920</td>\n",
       "      <td>Shaolin Avengers (1994)</td>\n",
       "      <td>Action</td>\n",
       "    </tr>\n",
       "    <tr>\n",
       "      <th>40637</th>\n",
       "      <td>159922</td>\n",
       "      <td>The Shaolin Avengers (1976)</td>\n",
       "      <td>Action</td>\n",
       "    </tr>\n",
       "    <tr>\n",
       "      <th>45394</th>\n",
       "      <td>170297</td>\n",
       "      <td>Ultimate Avengers 2 (2006)</td>\n",
       "      <td>Action|Animation|Sci-Fi</td>\n",
       "    </tr>\n",
       "    <tr>\n",
       "      <th>53341</th>\n",
       "      <td>187221</td>\n",
       "      <td>LEGO Marvel Super Heroes: Avengers Reassembled...</td>\n",
       "      <td>Animation</td>\n",
       "    </tr>\n",
       "    <tr>\n",
       "      <th>54283</th>\n",
       "      <td>189217</td>\n",
       "      <td>Avengers Grimm: Time Wars (2018)</td>\n",
       "      <td>Action|Adventure|Fantasy</td>\n",
       "    </tr>\n",
       "  </tbody>\n",
       "</table>\n",
       "</div>"
      ],
      "text/plain": [
       "       movieId                                              title  \\\n",
       "2063      2153                               Avengers, The (1998)   \n",
       "17067    89745                               Avengers, The (2012)   \n",
       "22599   115727  Crippled Avengers (Can que) (Return of the 5 D...   \n",
       "25058   122892                     Avengers: Age of Ultron (2015)   \n",
       "25067   122912             Avengers: Infinity War - Part I (2018)   \n",
       "25068   122914            Avengers: Infinity War - Part II (2019)   \n",
       "30333   135979           Next Avengers: Heroes of Tomorrow (2008)   \n",
       "30431   136257                              Avengers Grimm (2015)   \n",
       "34536   145676                                  3 Avengers (1964)   \n",
       "35219   147238  The New Adventures of the Elusive Avengers (1968)   \n",
       "35372   147657                             Masked Avengers (1981)   \n",
       "40636   159920                            Shaolin Avengers (1994)   \n",
       "40637   159922                        The Shaolin Avengers (1976)   \n",
       "45394   170297                         Ultimate Avengers 2 (2006)   \n",
       "53341   187221  LEGO Marvel Super Heroes: Avengers Reassembled...   \n",
       "54283   189217                   Avengers Grimm: Time Wars (2018)   \n",
       "\n",
       "                                 genres  \n",
       "2063                   Action|Adventure  \n",
       "17067      Action|Adventure|Sci-Fi|IMAX  \n",
       "22599                  Action|Adventure  \n",
       "25058           Action|Adventure|Sci-Fi  \n",
       "25067           Action|Adventure|Sci-Fi  \n",
       "25068           Action|Adventure|Sci-Fi  \n",
       "30333  Action|Animation|Children|Sci-Fi  \n",
       "30431          Action|Adventure|Fantasy  \n",
       "34536                (no genres listed)  \n",
       "35219         Action|Adventure|Children  \n",
       "35372                            Action  \n",
       "40636                            Action  \n",
       "40637                            Action  \n",
       "45394           Action|Animation|Sci-Fi  \n",
       "53341                         Animation  \n",
       "54283          Action|Adventure|Fantasy  "
      ]
     },
     "execution_count": 21,
     "metadata": {},
     "output_type": "execute_result"
    }
   ],
   "source": [
    "movie.loc[movie['title'].apply(lambda x:x.find('Avengers')!=-1)]"
   ]
  },
  {
   "cell_type": "code",
   "execution_count": 23,
   "metadata": {},
   "outputs": [
    {
     "data": {
      "text/html": [
       "<div>\n",
       "<style scoped>\n",
       "    .dataframe tbody tr th:only-of-type {\n",
       "        vertical-align: middle;\n",
       "    }\n",
       "\n",
       "    .dataframe tbody tr th {\n",
       "        vertical-align: top;\n",
       "    }\n",
       "\n",
       "    .dataframe thead th {\n",
       "        text-align: right;\n",
       "    }\n",
       "</style>\n",
       "<table border=\"1\" class=\"dataframe\">\n",
       "  <thead>\n",
       "    <tr style=\"text-align: right;\">\n",
       "      <th></th>\n",
       "      <th>rating</th>\n",
       "    </tr>\n",
       "    <tr>\n",
       "      <th>date</th>\n",
       "      <th></th>\n",
       "    </tr>\n",
       "  </thead>\n",
       "  <tbody>\n",
       "    <tr>\n",
       "      <th>2011-09</th>\n",
       "      <td>4.000000</td>\n",
       "    </tr>\n",
       "    <tr>\n",
       "      <th>2012-04</th>\n",
       "      <td>4.375000</td>\n",
       "    </tr>\n",
       "    <tr>\n",
       "      <th>2012-05</th>\n",
       "      <td>4.186158</td>\n",
       "    </tr>\n",
       "    <tr>\n",
       "      <th>2012-06</th>\n",
       "      <td>4.161088</td>\n",
       "    </tr>\n",
       "    <tr>\n",
       "      <th>2012-07</th>\n",
       "      <td>4.130556</td>\n",
       "    </tr>\n",
       "  </tbody>\n",
       "</table>\n",
       "</div>"
      ],
      "text/plain": [
       "           rating\n",
       "date             \n",
       "2011-09  4.000000\n",
       "2012-04  4.375000\n",
       "2012-05  4.186158\n",
       "2012-06  4.161088\n",
       "2012-07  4.130556"
      ]
     },
     "execution_count": 23,
     "metadata": {},
     "output_type": "execute_result"
    }
   ],
   "source": [
    "# The Avengers's movieId is 89745\n",
    "from datetime import datetime\n",
    "ratings = ratings.loc[ratings['movieId']==89745]\n",
    "ratings['date'] = ratings['timestamp'].apply(lambda x:datetime.strftime(datetime.fromtimestamp(x),'%Y-%m'))\n",
    "result = ratings.groupby('date').agg({'rating': 'mean'})\n",
    "result.head()"
   ]
  },
  {
   "cell_type": "code",
   "execution_count": 25,
   "metadata": {},
   "outputs": [
    {
     "data": {
      "text/plain": [
       "([<matplotlib.axis.XTick at 0x3b756f60>,\n",
       "  <matplotlib.axis.XTick at 0x3b7568d0>,\n",
       "  <matplotlib.axis.XTick at 0x3b756630>,\n",
       "  <matplotlib.axis.XTick at 0x3b75a5f8>,\n",
       "  <matplotlib.axis.XTick at 0x3b75aac8>,\n",
       "  <matplotlib.axis.XTick at 0x3b75ac88>,\n",
       "  <matplotlib.axis.XTick at 0x3b785518>,\n",
       "  <matplotlib.axis.XTick at 0x3b785a20>],\n",
       " <a list of 8 Text xticklabel objects>)"
      ]
     },
     "execution_count": 25,
     "metadata": {},
     "output_type": "execute_result"
    },
    {
     "data": {
      "image/png": "[encoded data removed]",
      "text/plain": [
       "<Figure size 432x288 with 1 Axes>"
      ]
     },
     "metadata": {
      "needs_background": "light"
     },
     "output_type": "display_data"
    }
   ],
   "source": [
    "import matplotlib.pyplot as plt\n",
    "plt.plot(result.index, result['rating'])\n",
    "plt.xticks(range(0, result.shape[0], 12), rotation=60)"
   ]
  },
  {
   "cell_type": "code",
   "execution_count": null,
   "metadata": {},
   "outputs": [],
   "source": []
  }
 ],
 "metadata": {
  "kernelspec": {
   "display_name": "Python 3",
   "language": "python",
   "name": "python3"
  },
  "language_info": {
   "codemirror_mode": {
    "name": "ipython",
    "version": 3
   },
   "file_extension": ".py",
   "mimetype": "text/x-python",
   "name": "python",
   "nbconvert_exporter": "python",
   "pygments_lexer": "ipython3",
   "version": "3.7.0"
  }
 },
 "nbformat": 4,
 "nbformat_minor": 2
}
