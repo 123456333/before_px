{
 "cells": [
  {
   "cell_type": "code",
   "execution_count": 1,
   "metadata": {},
   "outputs": [],
   "source": [
    "import pandas as pd"
   ]
  },
  {
   "cell_type": "markdown",
   "metadata": {},
   "source": [
    "1. 一共有多少不同的用户"
   ]
  },
  {
   "cell_type": "code",
   "execution_count": 5,
   "metadata": {},
   "outputs": [
    {
     "name": "stdout",
     "output_type": "stream",
     "text": [
      "一共有 610 个不同的用户\n"
     ]
    }
   ],
   "source": [
    "ratings = pd.read_csv('file/ratings.csv')\n",
    "user_nums = ratings['userId'].nunique()\n",
    "print('一共有 %s 个不同的用户' %user_nums)"
   ]
  },
  {
   "cell_type": "markdown",
   "metadata": {},
   "source": [
    "2. 一共有多少不同的电影"
   ]
  },
  {
   "cell_type": "code",
   "execution_count": 6,
   "metadata": {},
   "outputs": [
    {
     "name": "stdout",
     "output_type": "stream",
     "text": [
      "一共有 9742 个不同的电影\n"
     ]
    }
   ],
   "source": [
    "movies = pd.read_csv('file/movies.csv')\n",
    "movie_nums = movies['movieId'].nunique()\n",
    "print('一共有 %s 个不同的电影' %movie_nums)"
   ]
  },
  {
   "cell_type": "markdown",
   "metadata": {},
   "source": [
    "3. 一共有多少不同的电影种类"
   ]
  },
  {
   "cell_type": "code",
   "execution_count": 8,
   "metadata": {},
   "outputs": [
    {
     "name": "stdout",
     "output_type": "stream",
     "text": [
      "一共有 20 种不同的电影种类\n"
     ]
    }
   ],
   "source": [
    "genres_list = []\n",
    "for i in movies['genres']:\n",
    "    if isinstance(i,str):\n",
    "        genres_list.extend(i.split('|'))\n",
    "movie_genres = len(set(genres_list))\n",
    "print('一共有 %s 种不同的电影种类' %movie_genres)"
   ]
  },
  {
   "cell_type": "markdown",
   "metadata": {},
   "source": [
    "4. 一共有多少电影没有外部链接"
   ]
  },
  {
   "cell_type": "code",
   "execution_count": 10,
   "metadata": {},
   "outputs": [
    {
     "name": "stdout",
     "output_type": "stream",
     "text": [
      "一共有 8 部电影没有外部链接\n"
     ]
    }
   ],
   "source": [
    "links = pd.read_csv('file/links.csv')\n",
    "movies_links = movies.merge(links,on = 'movieId',how = 'left')\n",
    "no_links = sum(movies_links[['imdbId','tmdbId']].isnull().sum(axis=1)>0)\n",
    "print('一共有 %s 部电影没有外部链接' %no_links)"
   ]
  },
  {
   "cell_type": "markdown",
   "metadata": {},
   "source": [
    "5. 2018年一共有多少人进行过电影评分"
   ]
  },
  {
   "cell_type": "code",
   "execution_count": 12,
   "metadata": {},
   "outputs": [
    {
     "name": "stdout",
     "output_type": "stream",
     "text": [
      "2018年一共有 49 人进行过电影评分\n"
     ]
    }
   ],
   "source": [
    "import time\n",
    "timestamp_start = time.mktime(time.strptime('2018-01-01 00:00:00', '%Y-%m-%d %H:%M:%S'))\n",
    "timestamp_end = time.mktime(time.strptime('2019-01-01 00:00:00', '%Y-%m-%d %H:%M:%S'))\n",
    "p_nums = ratings.loc[(ratings['timestamp']>=timestamp_start) & (ratings['timestamp']<timestamp_end), 'userId'].nunique()\n",
    "print('2018年一共有 %s 人进行过电影评分' %p_nums)"
   ]
  },
  {
   "cell_type": "code",
   "execution_count": null,
   "metadata": {},
   "outputs": [],
   "source": []
  }
 ],
 "metadata": {
  "kernelspec": {
   "display_name": "Python 3",
   "language": "python",
   "name": "python3"
  },
  "language_info": {
   "codemirror_mode": {
    "name": "ipython",
    "version": 3
   },
   "file_extension": ".py",
   "mimetype": "text/x-python",
   "name": "python",
   "nbconvert_exporter": "python",
   "pygments_lexer": "ipython3",
   "version": "3.7.0"
  }
 },
 "nbformat": 4,
 "nbformat_minor": 2
}
