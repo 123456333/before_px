{
 "cells": [
  {
   "cell_type": "markdown",
   "metadata": {},
   "source": [
    "#需求1\n",
    "构造一个停车场，停车场可以停车和取车，停车成功后得到停车票。 用户取车的时候也需要提供停车票，停车票有效，才可以成功取到车。"
   ]
  },
  {
   "cell_type": "code",
   "execution_count": 1,
   "metadata": {},
   "outputs": [],
   "source": [
    "class ParkingLot(object):\n",
    "    def __init__(self, n, name):\n",
    "        self.name = name\n",
    "        self.cars = {}\n",
    "        self.n = n\n",
    "    \n",
    "    def is_empty(self):\n",
    "        if len(self.cars) < self.n:\n",
    "            return True\n",
    "        else:\n",
    "            return False\n",
    "    \n",
    "    def ticket(self):\n",
    "        if not self.cars:\n",
    "            return 0\n",
    "        else:\n",
    "            return max(self.cars.keys()) + 1\n",
    "    \n",
    "    def park(self, car):\n",
    "        if self.is_empty():\n",
    "            t = self.ticket()\n",
    "            self.cars[t] = car\n",
    "            print('%s 已停入%s，获取的车票号是 %s' % (car, self.name, t))\n",
    "            return t\n",
    "        else:\n",
    "            print('%s 已满！' % self.name)\n",
    "            return None\n",
    "        \n",
    "    def pickup(self, ticket):\n",
    "        try:\n",
    "            print('%s 车票号 %s-%s 正确，取出 %s' % (self.name, ticket, self.cars[ticket], self.cars[ticket]))\n",
    "            self.cars.pop(ticket)\n",
    "        except:\n",
    "            print('请提供正确的车票！')"
   ]
  },
  {
   "cell_type": "code",
   "execution_count": 2,
   "metadata": {},
   "outputs": [
    {
     "name": "stdout",
     "output_type": "stream",
     "text": [
      "dazhong 已停入1号停车场，获取的车票号是 0\n",
      "1号停车场 车票号 0-dazhong 正确，取出 dazhong\n"
     ]
    }
   ],
   "source": [
    "# test\n",
    "lot = ParkingLot(1, '1号停车场')\n",
    "p_dazhong = lot.park('dazhong')\n",
    "lot.pickup(p_dazhong )"
   ]
  },
  {
   "cell_type": "markdown",
   "metadata": {},
   "source": [
    "#需求2\n",
    "构造一个停车小弟（ParkingBoy），他能够将车顺序停放到多个停车场，并可以取出"
   ]
  },
  {
   "cell_type": "code",
   "execution_count": 7,
   "metadata": {},
   "outputs": [],
   "source": [
    "class ParkingBoy(object):\n",
    "    \n",
    "    def check(self, lots):\n",
    "        lot_cnt = {}  # 统计各停车场的剩余车位\n",
    "        for lot in lots:\n",
    "            if lot.n - len(lot.cars) > 0:\n",
    "                lot_cnt[lot] = lot.n - len(lot.cars)\n",
    "        return lot_cnt\n",
    "    \n",
    "    def order_park(self, cars, lots):\n",
    "        ticket_car = {}\n",
    "        for index, car in enumerate(cars):\n",
    "            lot_cnt = self.check(lots)\n",
    "            if not lot_cnt:  # 所有的停车场都没有车位\n",
    "                print('已无车位，%s没有地方停' % '、'.join(cars[index:]))\n",
    "                return ticket_car, cars[index:]\n",
    "            \n",
    "            lot = list(lot_cnt.keys())[0]\n",
    "            t = lot.park(car)\n",
    "            ticket_car[(lot, t)] = car\n",
    "        return ticket_car, None\n",
    "                \n",
    "    def order_pickup(self, infos):\n",
    "        for info, car in infos.items():\n",
    "            lot, ticket = info\n",
    "            lot.pickup(ticket)"
   ]
  },
  {
   "cell_type": "code",
   "execution_count": 8,
   "metadata": {},
   "outputs": [
    {
     "name": "stdout",
     "output_type": "stream",
     "text": [
      "dazhong 已停入1号停车场，获取的车票号是 0\n",
      "fute 已停入2号停车场，获取的车票号是 0\n",
      "aodi 已停入2号停车场，获取的车票号是 1\n",
      "\n",
      "1号停车场 车票号 0-dazhong 正确，取出 dazhong\n",
      "2号停车场 车票号 0-fute 正确，取出 fute\n",
      "2号停车场 车票号 1-aodi 正确，取出 aodi\n"
     ]
    }
   ],
   "source": [
    "lot1 = ParkingLot(n=1, name='1号停车场')\n",
    "lot2 = ParkingLot(n=2, name='2号停车场')\n",
    "lot3 = ParkingLot(n=3, name='3号停车场')\n",
    "\n",
    "anan = ParkingBoy()\n",
    "infos, _ = anan.order_park(['dazhong', 'fute', 'aodi'], [lot1, lot2, lot3])\n",
    "print()\n",
    "anan.order_pickup(infos)"
   ]
  },
  {
   "cell_type": "markdown",
   "metadata": {},
   "source": [
    "#需求3\n",
    "构造一个聪明的停车小弟（Smart Parking Boy），他能够将车停在空车位最多的那个停车场"
   ]
  },
  {
   "cell_type": "code",
   "execution_count": 9,
   "metadata": {},
   "outputs": [],
   "source": [
    "class SmartParkingBoy(ParkingMan):\n",
    "    \n",
    "    def order_park(self, cars, lots):\n",
    "        ticket_car = {}\n",
    "        for index, car in enumerate(cars):\n",
    "            lot_cnt = self.check(lots)\n",
    "            \n",
    "            if not lot_cnt:\n",
    "                print('已无车位，%s没有地方停' % '、'.join(cars[index:]))\n",
    "                return ticket_car, cars[index:]\n",
    "            \n",
    "            max_lot = sorted(lot_cnt.items(), key=lambda x: -x[1])[0][0]\n",
    "            t = max_lot.park(car)\n",
    "            ticket_car[(max_lot, t)] = car\n",
    "        return ticket_car, None"
   ]
  },
  {
   "cell_type": "code",
   "execution_count": 10,
   "metadata": {},
   "outputs": [
    {
     "name": "stdout",
     "output_type": "stream",
     "text": [
      "dazhong 已停入3号停车场，获取的车票号是 0\n",
      "fute 已停入2号停车场，获取的车票号是 0\n",
      "aodi 已停入3号停车场，获取的车票号是 1\n",
      "\n",
      "3号停车场 车票号 0-dazhong 正确，取出 dazhong\n",
      "2号停车场 车票号 0-fute 正确，取出 fute\n",
      "3号停车场 车票号 1-aodi 正确，取出 aodi\n"
     ]
    }
   ],
   "source": [
    "lot1 = ParkingLot(n=1, name='1号停车场')\n",
    "lot2 = ParkingLot(n=2, name='2号停车场')\n",
    "lot3 = ParkingLot(n=3, name='3号停车场')\n",
    "\n",
    "pingping = SmartParkingBoy()\n",
    "infos, _ = pingping.order_park(['dazhong', 'fute', 'aodi'], [lot1, lot2, lot3])\n",
    "print()\n",
    "pingping.order_pickup(infos)"
   ]
  },
  {
   "cell_type": "markdown",
   "metadata": {},
   "source": [
    "#需求4\n",
    "构造一个超级停车小弟（Super Parking Boy），他能够将车停在空置率最高的那个停车场"
   ]
  },
  {
   "cell_type": "code",
   "execution_count": 11,
   "metadata": {},
   "outputs": [],
   "source": [
    "class SuperParkingBoy(ParkingBoy):\n",
    "    \n",
    "    def order_park(self, cars, lots):\n",
    "        ticket_car = {}\n",
    "        for index, car in enumerate(cars):\n",
    "            lot_cnt = self.check(lots)\n",
    "            if not lot_cnt:\n",
    "                print('已无车位，%s没有地方停' % '、'.join(cars[index:]))\n",
    "                return ticket_car, cars[index:]\n",
    "            \n",
    "            lot_rate = {lot: cnt/lot.n for lot, cnt in lot_cnt.items()}\n",
    "            max_lot = sorted(lot_rate.items(), key=lambda x: -x[1])[0][0]\n",
    "            t = max_lot.park(car)\n",
    "            ticket_car[(max_lot, t)] = car\n",
    "        return ticket_car, None"
   ]
  },
  {
   "cell_type": "code",
   "execution_count": 12,
   "metadata": {},
   "outputs": [
    {
     "name": "stdout",
     "output_type": "stream",
     "text": [
      "dazhong 已停入1号停车场，获取的车票号是 0\n",
      "fute 已停入2号停车场，获取的车票号是 0\n",
      "aodi 已停入3号停车场，获取的车票号是 0\n",
      "\n",
      "1号停车场 车票号 0-dazhong 正确，取出 dazhong\n",
      "2号停车场 车票号 0-fute 正确，取出 fute\n",
      "3号停车场 车票号 0-aodi 正确，取出 aodi\n"
     ]
    }
   ],
   "source": [
    "lot1 = ParkingLot(n=1, name='1号停车场')\n",
    "lot2 = ParkingLot(n=2, name='2号停车场')\n",
    "lot3 = ParkingLot(n=3, name='3号停车场')\n",
    "\n",
    "kuaikuai = SuperParkingBoy()\n",
    "infos, _ = kuaikuai.order_park(['dazhong', 'fute', 'aodi'], [lot1, lot2, lot3])\n",
    "print()\n",
    "kuaikuai.order_pickup(infos)"
   ]
  },
  {
   "cell_type": "markdown",
   "metadata": {},
   "source": [
    "#需求5\n",
    "构造停车场的经理（Parking Manager），他要管理多个停车仔，让他们停车，同时也可以自己停车"
   ]
  },
  {
   "cell_type": "code",
   "execution_count": 15,
   "metadata": {},
   "outputs": [],
   "source": [
    "import random\n",
    "\n",
    "class ParkingManager(SuperParkingBoy):\n",
    "    \n",
    "    def other_park(self, boys, cars, lots):\n",
    "        ticket_car = {}\n",
    "        nonpark = None\n",
    "        for car in cars:\n",
    "            ticket_car_, nonpark_ = boys[random.randint(0, len(boys)-1)].order_park([car], lots)\n",
    "            ticket_car.update(ticket_car_)\n",
    "            if not nonpark_:\n",
    "                if not nonpark:\n",
    "                    nonpark = nonpark_\n",
    "                else:\n",
    "                    nonpark.extend(nonpark_)\n",
    "        return ticket_car, nonpark\n",
    "    \n",
    "    def self_park(self, cars, lots):\n",
    "        return self.order_park(cars, lots)"
   ]
  },
  {
   "cell_type": "code",
   "execution_count": 16,
   "metadata": {},
   "outputs": [
    {
     "name": "stdout",
     "output_type": "stream",
     "text": [
      "dazhong 已停入1号停车场，获取的车票号是 0\n",
      "fute 已停入2号停车场，获取的车票号是 0\n",
      "aodi 已停入3号停车场，获取的车票号是 0\n",
      "\n",
      "1号停车场 车票号 0-dazhong 正确，取出 dazhong\n",
      "2号停车场 车票号 0-fute 正确，取出 fute\n",
      "3号停车场 车票号 0-aodi 正确，取出 aodi\n",
      "\n",
      "dazhong 已停入3号停车场，获取的车票号是 0\n",
      "fute 已停入1号停车场，获取的车票号是 0\n",
      "aodi 已停入2号停车场，获取的车票号是 0\n"
     ]
    }
   ],
   "source": [
    "lot1 = ParkingLot(n=1, name='1号停车场')\n",
    "lot2 = ParkingLot(n=2, name='2号停车场')\n",
    "lot3 = ParkingLot(n=3, name='3号停车场')\n",
    "boy1 = ParkingBoy()\n",
    "boy2 = SmartParkingBoy()\n",
    "boy3 = SuperParkingBoy()\n",
    "manager = ParkingManager()\n",
    "\n",
    "infos, _ = manager.self_park(['dazhong', 'fute', 'aodi'], [lot1, lot2, lot3])\n",
    "print()\n",
    "boy1.order_pickup(infos)\n",
    "print()\n",
    "infos, _ = manager.other_park([boy1, boy2, boy3], ['dazhong', 'fute', 'aodi'], [lot1, lot2, lot3])"
   ]
  },
  {
   "cell_type": "code",
   "execution_count": null,
   "metadata": {},
   "outputs": [],
   "source": []
  }
 ],
 "metadata": {
  "kernelspec": {
   "display_name": "Python 3",
   "language": "python",
   "name": "python3"
  },
  "language_info": {
   "codemirror_mode": {
    "name": "ipython",
    "version": 3
   },
   "file_extension": ".py",
   "mimetype": "text/x-python",
   "name": "python",
   "nbconvert_exporter": "python",
   "pygments_lexer": "ipython3",
   "version": "3.7.0"
  }
 },
 "nbformat": 4,
 "nbformat_minor": 2
}
